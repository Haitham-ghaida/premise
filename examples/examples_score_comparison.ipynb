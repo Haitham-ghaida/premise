{
 "cells": [
  {
   "metadata": {},
   "cell_type": "code",
   "outputs": [],
   "execution_count": null,
   "source": "# Comparison",
   "id": "bd1f8e1699dd5692"
  },
  {
   "metadata": {},
   "cell_type": "markdown",
   "source": "`premise` provides a function to quickly compare the scores of your new databases against your original ecoinvent database, after the export to your `brightway` project.",
   "id": "a5e90690e7321c82"
  },
  {
   "metadata": {},
   "cell_type": "code",
   "outputs": [],
   "execution_count": null,
   "source": [
    "import bw2data\n",
    "from premise.score_comparison import comparative_analysis\n",
    "\n",
    "df = comparative_analysis(\n",
    "    ndb=ndb, # your NewDatabase object\n",
    "    limit=1000 # limits the number of datasets to compare. 1000 by default. If set to None, compare all common datasets.\n",
    ")"
   ],
   "id": "b5c657520fbe67f0"
  },
  {
   "metadata": {},
   "cell_type": "markdown",
   "source": "If you do no longer have the `ndb` object in memory (`premise.new_database.NewDatabase)`), you can also directly name your databases from your activated `brightway` project.",
   "id": "9e8828ec4acc488"
  },
  {
   "metadata": {},
   "cell_type": "code",
   "outputs": [],
   "execution_count": null,
   "source": [
    "df = comparative_analysis(\n",
    "    databases=[\n",
    "        \"ecoinvent-3.10.1-cutoff\",\n",
    "        \"some db\"\n",
    "    ],\n",
    "    limit=1000,\n",
    "    indicators = [\n",
    "        m for m in bw2data.methods if \"gwp\" in str(m).lower()\n",
    "    ]\n",
    ")"
   ],
   "id": "4536422a378c9c60"
  },
  {
   "metadata": {},
   "cell_type": "markdown",
   "source": [
    "This produces a `pandas.DataFrame` with:\n",
    "\n",
    "* name\n",
    "* reference product\n",
    "* location\n",
    "* CPC code (if any)\n",
    "* ISIC code (if any)\n",
    "* indicator\n",
    "\n",
    "and the score of the dataset (one column per database).\n",
    "\n",
    "You can then use it or export it to Excel for further analysis."
   ],
   "id": "12bc3b4cf93d9634"
  },
  {
   "metadata": {},
   "cell_type": "code",
   "outputs": [],
   "execution_count": null,
   "source": "df.to_excel(\"datasets_comparison.xlsx\")",
   "id": "864be130d30f37fb"
  }
 ],
 "metadata": {},
 "nbformat": 5,
 "nbformat_minor": 9
}
