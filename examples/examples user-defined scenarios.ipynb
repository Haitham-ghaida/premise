{
 "cells": [
  {
   "cell_type": "markdown",
   "id": "127fded4-377c-48c9-8d30-33852dfbd0ab",
   "metadata": {},
   "source": [
    "# Use examples of [premise](https://github.com/romainsacchi/premise) with user-generated scenarios\n",
    "\n",
    "Author: [romainsacchi](https://github.com/romainsacchi)\n",
    "\n",
    "This notebook shows examples on how to use `premise` to adapt the life cycle inventory database [ecoinvent](https://www.ecoinvent.org/) for prospective environmental impact assessment, using **user-generated scenarios**.\n",
    "\n",
    "User-generated scenario are scenarios built by the premise users community. They can be used on their own\n",
    "or together with a global IAM scenario.\n",
    "Public community scenarios are listed under the repository [Premise community scenario](https://github.com/premise-community-scenarios)."
   ]
  },
  {
   "cell_type": "markdown",
   "id": "a7694ff4-917d-4027-afe1-d63bf8d5b387",
   "metadata": {},
   "source": [
    "User-generated scenarios are \"packaged\" into [data packages](https://specs.frictionlessdata.io/data-package/)."
   ]
  },
  {
   "cell_type": "markdown",
   "id": "f2c96741-8a52-4d5d-b2bf-fc091ad97d43",
   "metadata": {},
   "source": [
    "Data packages ensure that the data used comes with all necessary metadata, resources (scenario data, inventories, etc.), and that the data is formatted in a correct way."
   ]
  },
  {
   "cell_type": "markdown",
   "id": "a9e4e85b-22eb-4a7e-928a-2ef7b5dd2814",
   "metadata": {},
   "source": [
    "To fetch a data packge, you can use the `datapackage` library.\n",
    "For exmaple, let's fetch the user-generated scenario about [Switzerland's future energy supply](https://github.com/premise-community-scenarios/energy-perspective-2050-switzerland)."
   ]
  },
  {
   "cell_type": "code",
   "execution_count": 1,
   "id": "90c8da09-12b1-4c35-bb36-550be70a738e",
   "metadata": {},
   "outputs": [],
   "source": [
    "from datapackage import Package"
   ]
  },
  {
   "cell_type": "code",
   "execution_count": 2,
   "id": "bda9c910-140b-4e65-9656-156158968c25",
   "metadata": {},
   "outputs": [],
   "source": [
    "# URL pointing to the raw datapackage.json file of the scenario\n",
    "fp = \"https://raw.githubusercontent.com/premise-community-scenarios/cobalt-perspective-2050/main/datapackage.json\"\n",
    "cobalt = Package(fp)\n",
    "\n",
    "fp = r\"https://raw.githubusercontent.com/premise-community-scenarios/ammonia-prospective-scenarios/main/datapackage.json\"\n",
    "ammonia = Package(fp)\n",
    "\n",
    "#fp = \"https://raw.githubusercontent.com/premise-community-scenarios/energy-perspective-2050-switzerland/main/datapackage.json\"\n",
    "fp = \"/Users/romain/Library/CloudStorage/Dropbox/EP2050/energy-perspective-2050-switzerland/datapackage.json\"\n",
    "ep2050 = Package(fp)\n",
    "\n",
    "fp = \"https://raw.githubusercontent.com/premise-community-scenarios/hydrogen-prospective-scenarios/main/datapackage.json\"\n",
    "hydrogen = Package(fp)\n"
   ]
  },
  {
   "cell_type": "code",
   "execution_count": 3,
   "id": "05168dfa-b9c2-4f73-90fe-fb7523c15bc1",
   "metadata": {},
   "outputs": [
    {
     "data": {
      "text/plain": [
       "['scenario_data', 'inventories', 'config']"
      ]
     },
     "execution_count": 3,
     "metadata": {},
     "output_type": "execute_result"
    }
   ],
   "source": [
    "hydrogen.resource_names"
   ]
  },
  {
   "cell_type": "markdown",
   "id": "b615c6c4-6309-4b55-a375-f95f3446b8f5",
   "metadata": {},
   "source": [
    "The datapackage has 3 resources: scenario data, inventories and a configuration file."
   ]
  },
  {
   "cell_type": "code",
   "execution_count": 4,
   "id": "b88cc08c-c6c2-4890-9c39-c52f51d5b98e",
   "metadata": {},
   "outputs": [
    {
     "name": "stdout",
     "output_type": "stream",
     "text": [
      "scenario_data\n",
      "inventories\n",
      "config\n"
     ]
    }
   ],
   "source": [
    "for resource in ep2050.resources:\n",
    "    print(resource.name)"
   ]
  },
  {
   "cell_type": "markdown",
   "id": "d4e664d6-19a2-4ed2-aeec-38bfa97dce8f",
   "metadata": {},
   "source": [
    "or"
   ]
  },
  {
   "cell_type": "code",
   "execution_count": 5,
   "id": "a02895f5-adb8-4b7c-a5a1-a49ed936f140",
   "metadata": {},
   "outputs": [
    {
     "data": {
      "text/plain": [
       "['scenario_data', 'config']"
      ]
     },
     "execution_count": 5,
     "metadata": {},
     "output_type": "execute_result"
    }
   ],
   "source": [
    "ammonia.resource_names"
   ]
  },
  {
   "cell_type": "markdown",
   "id": "676f4a89-f709-46c1-8bc6-19f174ddff2f",
   "metadata": {},
   "source": [
    "And you can directly read them (or look the resources up directly from the repo):"
   ]
  },
  {
   "cell_type": "code",
   "execution_count": 6,
   "id": "c8814dca-0f42-4fb9-9169-025f1860f4b4",
   "metadata": {},
   "outputs": [
    {
     "data": {
      "text/html": [
       "<div>\n",
       "<style scoped>\n",
       "    .dataframe tbody tr th:only-of-type {\n",
       "        vertical-align: middle;\n",
       "    }\n",
       "\n",
       "    .dataframe tbody tr th {\n",
       "        vertical-align: top;\n",
       "    }\n",
       "\n",
       "    .dataframe thead th {\n",
       "        text-align: right;\n",
       "    }\n",
       "</style>\n",
       "<table border=\"1\" class=\"dataframe\">\n",
       "  <thead>\n",
       "    <tr style=\"text-align: right;\">\n",
       "      <th></th>\n",
       "      <th>0</th>\n",
       "      <th>1</th>\n",
       "      <th>2</th>\n",
       "      <th>3</th>\n",
       "      <th>4</th>\n",
       "      <th>5</th>\n",
       "      <th>6</th>\n",
       "      <th>7</th>\n",
       "      <th>8</th>\n",
       "      <th>9</th>\n",
       "      <th>10</th>\n",
       "      <th>11</th>\n",
       "    </tr>\n",
       "  </thead>\n",
       "  <tbody>\n",
       "    <tr>\n",
       "      <th>0</th>\n",
       "      <td>Sustainable development - image</td>\n",
       "      <td>CHN</td>\n",
       "      <td>Efficiency|Hydrogen|Alkaline Electrolysis (ele...</td>\n",
       "      <td>%</td>\n",
       "      <td>66</td>\n",
       "      <td>67.5</td>\n",
       "      <td>69</td>\n",
       "      <td>71</td>\n",
       "      <td>73</td>\n",
       "      <td>74.5</td>\n",
       "      <td>76</td>\n",
       "      <td>76</td>\n",
       "    </tr>\n",
       "    <tr>\n",
       "      <th>1</th>\n",
       "      <td>Sustainable development - image</td>\n",
       "      <td>INDIA</td>\n",
       "      <td>Efficiency|Hydrogen|Alkaline Electrolysis (ele...</td>\n",
       "      <td>%</td>\n",
       "      <td>66</td>\n",
       "      <td>67.5</td>\n",
       "      <td>69</td>\n",
       "      <td>71</td>\n",
       "      <td>73</td>\n",
       "      <td>74.5</td>\n",
       "      <td>76</td>\n",
       "      <td>76</td>\n",
       "    </tr>\n",
       "    <tr>\n",
       "      <th>2</th>\n",
       "      <td>Sustainable development - image</td>\n",
       "      <td>CAN</td>\n",
       "      <td>Efficiency|Hydrogen|Alkaline Electrolysis (ele...</td>\n",
       "      <td>%</td>\n",
       "      <td>66</td>\n",
       "      <td>67.5</td>\n",
       "      <td>69</td>\n",
       "      <td>71</td>\n",
       "      <td>73</td>\n",
       "      <td>74.5</td>\n",
       "      <td>76</td>\n",
       "      <td>76</td>\n",
       "    </tr>\n",
       "    <tr>\n",
       "      <th>3</th>\n",
       "      <td>Sustainable development - image</td>\n",
       "      <td>USA</td>\n",
       "      <td>Efficiency|Hydrogen|Alkaline Electrolysis (ele...</td>\n",
       "      <td>%</td>\n",
       "      <td>66</td>\n",
       "      <td>67.5</td>\n",
       "      <td>69</td>\n",
       "      <td>71</td>\n",
       "      <td>73</td>\n",
       "      <td>74.5</td>\n",
       "      <td>76</td>\n",
       "      <td>76</td>\n",
       "    </tr>\n",
       "    <tr>\n",
       "      <th>4</th>\n",
       "      <td>Sustainable development - image</td>\n",
       "      <td>MEX</td>\n",
       "      <td>Efficiency|Hydrogen|Alkaline Electrolysis (ele...</td>\n",
       "      <td>%</td>\n",
       "      <td>66</td>\n",
       "      <td>67.5</td>\n",
       "      <td>69</td>\n",
       "      <td>71</td>\n",
       "      <td>73</td>\n",
       "      <td>74.5</td>\n",
       "      <td>76</td>\n",
       "      <td>76</td>\n",
       "    </tr>\n",
       "  </tbody>\n",
       "</table>\n",
       "</div>"
      ],
      "text/plain": [
       "                                0      1   \\\n",
       "0  Sustainable development - image    CHN   \n",
       "1  Sustainable development - image  INDIA   \n",
       "2  Sustainable development - image    CAN   \n",
       "3  Sustainable development - image    USA   \n",
       "4  Sustainable development - image    MEX   \n",
       "\n",
       "                                                  2  3   4     5   6   7   8   \\\n",
       "0  Efficiency|Hydrogen|Alkaline Electrolysis (ele...  %  66  67.5  69  71  73   \n",
       "1  Efficiency|Hydrogen|Alkaline Electrolysis (ele...  %  66  67.5  69  71  73   \n",
       "2  Efficiency|Hydrogen|Alkaline Electrolysis (ele...  %  66  67.5  69  71  73   \n",
       "3  Efficiency|Hydrogen|Alkaline Electrolysis (ele...  %  66  67.5  69  71  73   \n",
       "4  Efficiency|Hydrogen|Alkaline Electrolysis (ele...  %  66  67.5  69  71  73   \n",
       "\n",
       "     9   10  11  \n",
       "0  74.5  76  76  \n",
       "1  74.5  76  76  \n",
       "2  74.5  76  76  \n",
       "3  74.5  76  76  \n",
       "4  74.5  76  76  "
      ]
     },
     "execution_count": 6,
     "metadata": {},
     "output_type": "execute_result"
    }
   ],
   "source": [
    "import pandas as pd\n",
    "data = ammonia.get_resource(\"scenario_data\").read()\n",
    "pd.DataFrame(data).head()"
   ]
  },
  {
   "cell_type": "markdown",
   "id": "952e8dfe-71ee-4649-80ac-a6e3934cfa1f",
   "metadata": {},
   "source": [
    "The datapackage can also be locally stored (i.e., on your computer), in which case you only\n",
    "need to provide the filepath to the `datapackage.json` file."
   ]
  },
  {
   "cell_type": "markdown",
   "id": "09760b15-e129-46b8-85d2-80aefa5c2a0c",
   "metadata": {},
   "source": [
    "Once the datapackage is loaded, you just need to pass it (in a list) to the `NewDatabase` instance of `premise`."
   ]
  },
  {
   "cell_type": "code",
   "execution_count": 7,
   "id": "f15e00e7-4086-4312-8090-ad432ea368d6",
   "metadata": {},
   "outputs": [],
   "source": [
    "from premise import *\n",
    "import bw2data\n",
    "bw2data.projects.set_current(\"ecoinvent-3.10.1-cutoff\")"
   ]
  },
  {
   "cell_type": "code",
   "execution_count": 8,
   "id": "b0408c8e-ce9e-4d6c-8e4b-a6a0db1ff384",
   "metadata": {},
   "outputs": [
    {
     "name": "stdout",
     "output_type": "stream",
     "text": [
      "premise v.(2, 2, 8)\n",
      "+------------------------------------------------------------------+\n",
      "| Warning                                                          |\n",
      "+------------------------------------------------------------------+\n",
      "| Because some of the scenarios can yield LCI databases            |\n",
      "| containing net negative emission technologies (NET),             |\n",
      "| it is advised to account for biogenic CO2 flows when calculating |\n",
      "| Global Warming potential indicators.                             |\n",
      "| `premise_gwp` provides characterization factors for such flows.  |\n",
      "| It also provides factors for hydrogen emissions to air.          |\n",
      "|                                                                  |\n",
      "| Within your bw2 project:                                         |\n",
      "| from premise_gwp import add_premise_gwp                          |\n",
      "| add_premise_gwp()                                                |\n",
      "+------------------------------------------------------------------+\n",
      "+--------------------------------+----------------------------------+\n",
      "| Utils functions                | Description                      |\n",
      "+--------------------------------+----------------------------------+\n",
      "| clear_cache()                  | Clears the cache folder. Useful  |\n",
      "|                                | when updating `premise`or        |\n",
      "|                                | encountering issues with         |\n",
      "|                                | inventories.                     |\n",
      "+--------------------------------+----------------------------------+\n",
      "| get_regions_definition(model)  | Retrieves the list of countries  |\n",
      "|                                | for each region of the model.    |\n",
      "+--------------------------------+----------------------------------+\n",
      "| ndb.NewDatabase(...)           | Generates a summary of the most  |\n",
      "| ndb.generate_scenario_report() | important scenarios' variables.  |\n",
      "+--------------------------------+----------------------------------+\n",
      "Keep uncertainty data?\n",
      "NewDatabase(..., keep_source_db_uncertainty=True), keep_imports_uncertainty=True)\n",
      "\n",
      "Hide these messages?\n",
      "NewDatabase(..., quiet=True)\n",
      "- Extracting source database\n",
      "- Extracting inventories\n",
      "- Fetching IAM data\n",
      "Done!\n"
     ]
    }
   ],
   "source": [
    "external_scenarios = [\n",
    "    #{\"scenario\": \"Sustainable development\", \"data\": cobalt},\n",
    "    {\"scenario\": \"Business As Usual - image\", \"data\": ammonia},\n",
    "    {\"scenario\": \"ZERO Basis\", \"data\": ep2050},\n",
    "    #{\"scenario\": \"Ambitious\", \"data\": hydrogen},\n",
    "]\n",
    "\n",
    "scenarios = [\n",
    "    {\"model\": \"image\", \"pathway\":\"SSP2-Base\", \"year\": 2040, \"external scenarios\": external_scenarios},\n",
    "    {\"model\": \"image\", \"pathway\":\"SSP2-Base\", \"year\": 2025, \"external scenarios\": external_scenarios},\n",
    "    {\"model\": \"image\", \"pathway\":\"SSP2-Base\", \"year\": 2035, \"external scenarios\": external_scenarios},\n",
    "    {\"model\": \"image\", \"pathway\":\"SSP2-RCP26\", \"year\": 2045, \"external scenarios\": external_scenarios},\n",
    "]\n",
    "\n",
    "ndb = NewDatabase(\n",
    "        scenarios = scenarios,        \n",
    "        source_db=\"ecoinvent-3.10.1-cutoff\",\n",
    "        source_version=\"3.10\",\n",
    "        key='tUePmX_S5B8ieZkkM7WUU2CnO8SmShwmAeWK9x2rTFo=',\n",
    ")\n"
   ]
  },
  {
   "cell_type": "markdown",
   "id": "560b5cc3-11c8-4499-b553-d79ec5203e3e",
   "metadata": {},
   "source": [
    "To integrate the projections of the user-generated scenario, call `update(\"external\")` (or `ndb.update()` to apply all integrations, including that of external scenarios)."
   ]
  },
  {
   "cell_type": "code",
   "execution_count": 9,
   "id": "51dd0dd9-86bf-42f3-bded-d3da98178b7e",
   "metadata": {
    "scrolled": true
   },
   "outputs": [
    {
     "name": "stderr",
     "output_type": "stream",
     "text": [
      "Processing scenarios for sector 'external':   0%| | 0/4 [00:00<?, ?it/"
     ]
    },
    {
     "name": "stdout",
     "output_type": "stream",
     "text": [
      "Extracted 1 worksheets in 0.00 seconds\n",
      "The following datasets will be duplicated:\n",
      "+----------------------------------------------------+----------------------------------------------------+\n",
      "|                        Name                        |                 Reference product                  |\n",
      "+----------------------------------------------------+----------------------------------------------------+\n",
      "| electricity production, hydro, reservoir, alpine r |             electricity, high voltage              |\n",
      "| electricity production, nuclear, boiling water rea |             electricity, high voltage              |\n",
      "| treatment of municipal solid waste, municipal inci | electricity, for reuse in municipal waste incinera |\n",
      "| electricity production, natural gas, combined cycl |             electricity, high voltage              |\n",
      "|        electricity production, photovoltaic        |              electricity, low voltage              |\n",
      "| heat and power co-generation, wood chips, 6667 kW  |             electricity, high voltage              |\n",
      "+----------------------------------------------------+----------------------------------------------------+\n"
     ]
    },
    {
     "name": "stderr",
     "output_type": "stream",
     "text": [
      "Processing scenarios for sector 'external':  25%|▎| 1/4 [00:20<01:00, "
     ]
    },
    {
     "name": "stdout",
     "output_type": "stream",
     "text": [
      "Extracted 1 worksheets in 0.00 seconds\n",
      "The following datasets will be duplicated:\n",
      "+----------------------------------------------------+----------------------------------------------------+\n",
      "|                        Name                        |                 Reference product                  |\n",
      "+----------------------------------------------------+----------------------------------------------------+\n",
      "| electricity production, hydro, reservoir, alpine r |             electricity, high voltage              |\n",
      "| electricity production, nuclear, boiling water rea |             electricity, high voltage              |\n",
      "| treatment of municipal solid waste, municipal inci | electricity, for reuse in municipal waste incinera |\n",
      "| electricity production, natural gas, combined cycl |             electricity, high voltage              |\n",
      "|        electricity production, photovoltaic        |              electricity, low voltage              |\n",
      "| heat and power co-generation, wood chips, 6667 kW  |             electricity, high voltage              |\n",
      "+----------------------------------------------------+----------------------------------------------------+\n",
      "No suppliers found for market for hydrogen, liquid, EP2050 in CH. No market created. This may cause linking issue.\n"
     ]
    },
    {
     "name": "stderr",
     "output_type": "stream",
     "text": [
      "Processing scenarios for sector 'external':  50%|▌| 2/4 [00:42<00:43, "
     ]
    },
    {
     "name": "stdout",
     "output_type": "stream",
     "text": [
      "Extracted 1 worksheets in 0.00 seconds\n",
      "The following datasets will be duplicated:\n",
      "+----------------------------------------------------+----------------------------------------------------+\n",
      "|                        Name                        |                 Reference product                  |\n",
      "+----------------------------------------------------+----------------------------------------------------+\n",
      "| electricity production, hydro, reservoir, alpine r |             electricity, high voltage              |\n",
      "| electricity production, nuclear, boiling water rea |             electricity, high voltage              |\n",
      "| treatment of municipal solid waste, municipal inci | electricity, for reuse in municipal waste incinera |\n",
      "| electricity production, natural gas, combined cycl |             electricity, high voltage              |\n",
      "|        electricity production, photovoltaic        |              electricity, low voltage              |\n",
      "| heat and power co-generation, wood chips, 6667 kW  |             electricity, high voltage              |\n",
      "+----------------------------------------------------+----------------------------------------------------+\n"
     ]
    },
    {
     "name": "stderr",
     "output_type": "stream",
     "text": [
      "Processing scenarios for sector 'external':  50%|▌| 2/4 [01:04<01:04, \n"
     ]
    },
    {
     "ename": "KeyboardInterrupt",
     "evalue": "",
     "output_type": "error",
     "traceback": [
      "\u001b[31m---------------------------------------------------------------------------\u001b[39m",
      "\u001b[31mKeyboardInterrupt\u001b[39m                         Traceback (most recent call last)",
      "\u001b[36mCell\u001b[39m\u001b[36m \u001b[39m\u001b[32mIn[9]\u001b[39m\u001b[32m, line 1\u001b[39m\n\u001b[32m----> \u001b[39m\u001b[32m1\u001b[39m \u001b[43mndb\u001b[49m\u001b[43m.\u001b[49m\u001b[43mupdate\u001b[49m\u001b[43m(\u001b[49m\u001b[33;43m\"\u001b[39;49m\u001b[33;43mexternal\u001b[39;49m\u001b[33;43m\"\u001b[39;49m\u001b[43m)\u001b[49m\n",
      "\u001b[36mFile \u001b[39m\u001b[32m~/GitHub/premise/premise/new_database.py:982\u001b[39m, in \u001b[36mNewDatabase.update\u001b[39m\u001b[34m(self, sectors)\u001b[39m\n\u001b[32m    979\u001b[39m     scenario[\u001b[33m\"\u001b[39m\u001b[33mapplied functions\u001b[39m\u001b[33m\"\u001b[39m].append(sector)\n\u001b[32m    981\u001b[39m \u001b[38;5;66;03m# dump database\u001b[39;00m\n\u001b[32m--> \u001b[39m\u001b[32m982\u001b[39m \u001b[43mdump_database\u001b[49m\u001b[43m(\u001b[49m\u001b[43mscenario\u001b[49m\u001b[43m)\u001b[49m\n\u001b[32m    983\u001b[39m \u001b[38;5;66;03m# Manually update the outer progress bar\u001b[39;00m\n\u001b[32m    984\u001b[39m \u001b[38;5;66;03m# after each sector is completed\u001b[39;00m\n\u001b[32m    985\u001b[39m pbar_outer.update()\n",
      "\u001b[36mFile \u001b[39m\u001b[32m~/GitHub/premise/premise/utils.py:400\u001b[39m, in \u001b[36mdump_database\u001b[39m\u001b[34m(scenario)\u001b[39m\n\u001b[32m    398\u001b[39m \u001b[38;5;66;03m# dump as pickle\u001b[39;00m\n\u001b[32m    399\u001b[39m \u001b[38;5;28;01mwith\u001b[39;00m \u001b[38;5;28mopen\u001b[39m(DIR_CACHED_FILES / name, \u001b[33m\"\u001b[39m\u001b[33mwb\u001b[39m\u001b[33m\"\u001b[39m) \u001b[38;5;28;01mas\u001b[39;00m f:\n\u001b[32m--> \u001b[39m\u001b[32m400\u001b[39m     \u001b[43mpickle\u001b[49m\u001b[43m.\u001b[49m\u001b[43mdump\u001b[49m\u001b[43m(\u001b[49m\u001b[43mscenario\u001b[49m\u001b[43m[\u001b[49m\u001b[33;43m\"\u001b[39;49m\u001b[33;43mdatabase\u001b[39;49m\u001b[33;43m\"\u001b[39;49m\u001b[43m]\u001b[49m\u001b[43m,\u001b[49m\u001b[43m \u001b[49m\u001b[43mf\u001b[49m\u001b[43m)\u001b[49m\n\u001b[32m    401\u001b[39m scenario[\u001b[33m\"\u001b[39m\u001b[33mdatabase filepath\u001b[39m\u001b[33m\"\u001b[39m] = DIR_CACHED_FILES / name\n\u001b[32m    402\u001b[39m \u001b[38;5;28;01mdel\u001b[39;00m scenario[\u001b[33m\"\u001b[39m\u001b[33mdatabase\u001b[39m\u001b[33m\"\u001b[39m]\n",
      "\u001b[31mKeyboardInterrupt\u001b[39m: "
     ]
    }
   ],
   "source": [
    "ndb.update(\"external\")"
   ]
  },
  {
   "cell_type": "code",
   "execution_count": null,
   "id": "2dde9ff3-fed8-4b42-9c2d-ba71e87ca932",
   "metadata": {},
   "outputs": [],
   "source": [
    "ndb.write_db_to_brightway()"
   ]
  },
  {
   "cell_type": "markdown",
   "id": "37d05dd0-e5a1-4ff5-a91c-8c9c342da322",
   "metadata": {},
   "source": [
    "You can combine the user-generated scenario with any, all or none of the projections for the IAM model.\n",
    "For example, here with the electricity projections of the IMAGE SSP2-Base scenario:"
   ]
  },
  {
   "cell_type": "code",
   "execution_count": null,
   "id": "15c2e1f4-2d8c-47b5-b0ab-f641f1ebbf47",
   "metadata": {},
   "outputs": [],
   "source": [
    "scenarios = [\n",
    "    {\"model\": \"image\", \"pathway\":\"SSP2-Base\", \"year\": 2040},\n",
    "]\n",
    "\n",
    "ndb = NewDatabase(\n",
    "        scenarios = scenarios,        \n",
    "        source_db=\"ecoinvent 3.8 cutoff\",\n",
    "        source_version=\"3.8\",\n",
    "        key='xxxxx',\n",
    "        external_scenarios=[\n",
    "            switzerland_2050,\n",
    "        ]\n",
    ")\n",
    "\n",
    "ndb.update(\n",
    "    [\n",
    "        \"electricity\",\n",
    "        \"external\"\n",
    "    ]\n",
    ")"
   ]
  },
  {
   "cell_type": "markdown",
   "id": "30f6dffc-766d-442d-a93d-d53a2b127e72",
   "metadata": {},
   "source": [
    "Once the projections are integrated, you can export the database(s) back to your Brightway2 project, to\n",
    "a CSV Simapro file, or as a set of sparse amtrices (see main exmaples notebook for more details)."
   ]
  },
  {
   "cell_type": "code",
   "execution_count": null,
   "id": "c71a9cd5-e547-409e-868f-03cf6fe09cbf",
   "metadata": {},
   "outputs": [],
   "source": []
  }
 ],
 "metadata": {
  "kernelspec": {
   "display_name": "Python 3 (ipykernel)",
   "language": "python",
   "name": "python3"
  },
  "language_info": {
   "codemirror_mode": {
    "name": "ipython",
    "version": 3
   },
   "file_extension": ".py",
   "mimetype": "text/x-python",
   "name": "python",
   "nbconvert_exporter": "python",
   "pygments_lexer": "ipython3",
   "version": "3.11.12"
  }
 },
 "nbformat": 4,
 "nbformat_minor": 5
}
